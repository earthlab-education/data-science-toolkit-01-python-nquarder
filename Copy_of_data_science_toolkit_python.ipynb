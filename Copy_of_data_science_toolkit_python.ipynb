{
  "nbformat": 4,
  "nbformat_minor": 0,
  "metadata": {
    "colab": {
      "name": "Copy of data-science-toolkit-python.ipynb",
      "provenance": []
    },
    "kernelspec": {
      "name": "python3",
      "display_name": "Python 3"
    },
    "language_info": {
      "name": "python"
    },
    "gpuClass": "standard"
  },
  "cells": [
    {
      "cell_type": "markdown",
      "source": [
        "<img style=\"float: left;\" src=\"https://drive.google.com/uc?export=view&id=13_P0Dq9rb1aXFFVfspMRn5hlP7t8RuwC\" width=\"200\" height=\"100\">\n",
        "\n",
        "\n",
        "![Colored Bar](https://drive.google.com/uc?export=view&id=1WL0ur5SQc5ijCvXc6MvWUeoWOIVS_rQ9)\n",
        "\n",
        "\n",
        "\n",
        "# Data Science Toolkit - Intro to Python\n",
        "\n",
        "Welcome to the Data Science Toolkit workshop! Today, we will learn the fundamentals of programming for data science in Python, including:\n",
        "\n",
        "\n",
        "1.   Variables and Data Types\n",
        "2.   Importing Tabular Data\n",
        "3.   Plotting\n",
        "4.   Functions and Loops"
      ],
      "metadata": {
        "id": "4JXr2AgdhIiG"
      }
    },
    {
      "cell_type": "markdown",
      "source": [
        "## Variables and Data Types\n",
        "\n",
        "Variables are used to store information in Python using the assignment operator `=` . They can take on numerical values, or text values, or some combination. Python is case sensitive, and you should get in the habit of giving meaningful names to your variables. \n",
        "\n",
        "The following tasks are modeled after the Software Carpentries (http://swcarpentry.github.io/python-novice-gapminder/02-variables/index.html)\n",
        "\n",
        "\n"
      ],
      "metadata": {
        "id": "utjSE4J4iYbY"
      }
    },
    {
      "cell_type": "markdown",
      "source": [
        "### **TASK**: Create some variables"
      ],
      "metadata": {
        "id": "CbZjhAYoy5vD"
      }
    },
    {
      "cell_type": "code",
      "execution_count": null,
      "metadata": {
        "id": "uSfPRCBDhC6Z",
        "colab": {
          "base_uri": "https://localhost:8080/"
        },
        "outputId": "afb62662-5957-4c38-bd20-974c62175313"
      },
      "outputs": [
        {
          "output_type": "execute_result",
          "data": {
            "text/plain": [
              "2.0"
            ]
          },
          "metadata": {},
          "execution_count": 1
        }
      ],
      "source": [
        "mass1 = 40.0\n",
        "mass1\n",
        "\n",
        "\n",
        "mass2 = 2.0\n",
        "mass2"
      ]
    },
    {
      "cell_type": "code",
      "source": [
        "name = \"Bruce\"\n",
        "name"
      ],
      "metadata": {
        "colab": {
          "base_uri": "https://localhost:8080/",
          "height": 35
        },
        "id": "rlEUQ43pPSLo",
        "outputId": "233ef614-a558-41c4-e0fe-4860e5d346ce"
      },
      "execution_count": null,
      "outputs": [
        {
          "output_type": "execute_result",
          "data": {
            "text/plain": [
              "'Bruce'"
            ],
            "application/vnd.google.colaboratory.intrinsic+json": {
              "type": "string"
            }
          },
          "metadata": {},
          "execution_count": 2
        }
      ]
    },
    {
      "cell_type": "markdown",
      "source": [
        "### **TASK**: Use `print` to display values"
      ],
      "metadata": {
        "id": "vyhcp-FszSaD"
      }
    },
    {
      "cell_type": "code",
      "source": [
        "print(\"The value of mass 1 is:\", mass1, \"The value of mass 2 is:\", mass2)\n",
        "print(\"My name is Bruce\")\n",
        "print(\"My name is\", name)"
      ],
      "metadata": {
        "id": "Yr5nVCg0zun-",
        "colab": {
          "base_uri": "https://localhost:8080/"
        },
        "outputId": "48a37d02-cf08-41c4-d629-981e2fe7aaa8"
      },
      "execution_count": null,
      "outputs": [
        {
          "output_type": "stream",
          "name": "stdout",
          "text": [
            "The value of mass 1 is: 40.0 The value of mass 2 is: 2.0\n",
            "My name is Bruce\n",
            "My name is Bruce\n"
          ]
        }
      ]
    },
    {
      "cell_type": "markdown",
      "source": [
        "### Variables must be created before they are used\n",
        "\n",
        "\n",
        "*   If a variable doesn’t exist yet, or if the name has been mis-spelled, Python reports an error.\n",
        "*   It can be helpful to use the `Runtime` -> `Restart & Run All` option to clear out your variables and re-run cells from the top of the notebook.\n",
        "*   A variable inspector is a handy way to monitor variable assigments.\n",
        "\n",
        "\n",
        "\n"
      ],
      "metadata": {
        "id": "GO7Qfar2zxPq"
      }
    },
    {
      "cell_type": "code",
      "source": [
        "velocity = 100.0 \n",
        "velocity\n",
        "\n",
        "\n",
        "mass2 = 45\n",
        "mass2"
      ],
      "metadata": {
        "id": "db34Yj8h0Gx1",
        "colab": {
          "base_uri": "https://localhost:8080/"
        },
        "outputId": "99953b1f-dfab-4d71-c814-f7fa1bb8928d"
      },
      "execution_count": null,
      "outputs": [
        {
          "output_type": "execute_result",
          "data": {
            "text/plain": [
              "45"
            ]
          },
          "metadata": {},
          "execution_count": 4
        }
      ]
    },
    {
      "cell_type": "markdown",
      "source": [
        "### **TASK**: Use your variables and Python operators (`+, -, *, /, ^`) in calculations "
      ],
      "metadata": {
        "id": "ecw_EHju1Fy7"
      }
    },
    {
      "cell_type": "code",
      "source": [
        "mass2 + 10"
      ],
      "metadata": {
        "id": "qkPYqjbj1lwy",
        "colab": {
          "base_uri": "https://localhost:8080/"
        },
        "outputId": "0454be10-9457-4a14-e950-008a0efc9be2"
      },
      "execution_count": null,
      "outputs": [
        {
          "output_type": "execute_result",
          "data": {
            "text/plain": [
              "55"
            ]
          },
          "metadata": {},
          "execution_count": 7
        }
      ]
    },
    {
      "cell_type": "code",
      "source": [
        "mass2 * 10"
      ],
      "metadata": {
        "colab": {
          "base_uri": "https://localhost:8080/"
        },
        "id": "Lzvgn5xNSfl5",
        "outputId": "adfa4b09-dce9-4822-9bf4-5df728622133"
      },
      "execution_count": null,
      "outputs": [
        {
          "output_type": "execute_result",
          "data": {
            "text/plain": [
              "450"
            ]
          },
          "metadata": {},
          "execution_count": 8
        }
      ]
    },
    {
      "cell_type": "code",
      "source": [
        "mass3 = (mass2 // 5)\n",
        "mass3"
      ],
      "metadata": {
        "colab": {
          "base_uri": "https://localhost:8080/"
        },
        "id": "Kcd-qvaMStNg",
        "outputId": "ab1f8d48-c692-4276-f3a4-e1c5b5f86ea7"
      },
      "execution_count": null,
      "outputs": [
        {
          "output_type": "execute_result",
          "data": {
            "text/plain": [
              "9"
            ]
          },
          "metadata": {},
          "execution_count": 26
        }
      ]
    },
    {
      "cell_type": "code",
      "source": [
        "mass2 ** 3"
      ],
      "metadata": {
        "colab": {
          "base_uri": "https://localhost:8080/"
        },
        "id": "f2SEyNvXS4T6",
        "outputId": "56bdd71f-e1da-4939-e06c-393728d0a1cd"
      },
      "execution_count": null,
      "outputs": [
        {
          "output_type": "execute_result",
          "data": {
            "text/plain": [
              "91125"
            ]
          },
          "metadata": {},
          "execution_count": 12
        }
      ]
    },
    {
      "cell_type": "code",
      "source": [
        "name / 3"
      ],
      "metadata": {
        "colab": {
          "base_uri": "https://localhost:8080/",
          "height": 166
        },
        "id": "zilgGPalTPaC",
        "outputId": "74e4cc4a-ba93-44d6-c81e-0b2bdf6b5033"
      },
      "execution_count": null,
      "outputs": [
        {
          "output_type": "error",
          "ename": "TypeError",
          "evalue": "ignored",
          "traceback": [
            "\u001b[0;31m---------------------------------------------------------------------------\u001b[0m",
            "\u001b[0;31mTypeError\u001b[0m                                 Traceback (most recent call last)",
            "\u001b[0;32m<ipython-input-16-31c0f0e5affe>\u001b[0m in \u001b[0;36m<module>\u001b[0;34m()\u001b[0m\n\u001b[0;32m----> 1\u001b[0;31m \u001b[0mname\u001b[0m \u001b[0;34m/\u001b[0m \u001b[0;36m3\u001b[0m\u001b[0;34m\u001b[0m\u001b[0;34m\u001b[0m\u001b[0m\n\u001b[0m",
            "\u001b[0;31mTypeError\u001b[0m: unsupported operand type(s) for /: 'str' and 'int'"
          ]
        }
      ]
    },
    {
      "cell_type": "markdown",
      "source": [
        "### **TASK**: Use the built-in `type()` function to determine the type of data contained within a variable"
      ],
      "metadata": {
        "id": "qCy7WcFm1vam"
      }
    },
    {
      "cell_type": "code",
      "source": [
        "type(mass1)"
      ],
      "metadata": {
        "id": "xNapvOsG2bB7",
        "colab": {
          "base_uri": "https://localhost:8080/"
        },
        "outputId": "097db5b3-a4d5-4720-cf56-fcaa8cab744c"
      },
      "execution_count": null,
      "outputs": [
        {
          "output_type": "execute_result",
          "data": {
            "text/plain": [
              "float"
            ]
          },
          "metadata": {},
          "execution_count": 19
        }
      ]
    },
    {
      "cell_type": "markdown",
      "source": [
        "### **TASK**: Use the built-in `len()` function to determine the length of a string. \n",
        "\n",
        "\n",
        "*   **NOTE**: Python uses zero indexing so the first element in a string takes on an index of zero (0).\n",
        "\n"
      ],
      "metadata": {
        "id": "mIIX11_l2qIF"
      }
    },
    {
      "cell_type": "code",
      "source": [
        "len(name)\n",
        "#len(mass2)"
      ],
      "metadata": {
        "id": "B-BS2e_p26OC",
        "colab": {
          "base_uri": "https://localhost:8080/"
        },
        "outputId": "a22b7f6d-4f49-4832-ece5-3b8bd7db4f3f"
      },
      "execution_count": null,
      "outputs": [
        {
          "output_type": "execute_result",
          "data": {
            "text/plain": [
              "5"
            ]
          },
          "metadata": {},
          "execution_count": 30
        }
      ]
    },
    {
      "cell_type": "markdown",
      "source": [
        "### **TASK**: Use a slice to get a substring"
      ],
      "metadata": {
        "id": "Ii58oStH3AL0"
      }
    },
    {
      "cell_type": "code",
      "source": [
        ""
      ],
      "metadata": {
        "id": "QFMqw4v33G83"
      },
      "execution_count": null,
      "outputs": []
    },
    {
      "cell_type": "markdown",
      "source": [
        "## Importing Tabular data\n",
        "\n",
        "* Download temperature data from the [NOAA Climate data website](https://www.ncei.noaa.gov/access/monitoring/climate-at-a-glance/)\n",
        "\n",
        "* Use the `pandas` library to work with tabular data in Python (be careful to skip the 'header' rows and assign missing values when appropriate)\n",
        "* NOTE: This lesson is modeled after the Sofware Carpentries (http://swcarpentry.github.io/python-novice-gapminder/07-reading-tabular/index.html)"
      ],
      "metadata": {
        "id": "e3fXdYPcidYQ"
      }
    },
    {
      "cell_type": "markdown",
      "source": [
        "### **TASK**: Use `pd.read_csv()` to open a comma separated value (.csv) file. Use the built-in `.head()` function to display the first 5 rows of your data."
      ],
      "metadata": {
        "id": "vutoXVLH6sli"
      }
    },
    {
      "cell_type": "code",
      "source": [
        "import pandas as pd"
      ],
      "metadata": {
        "id": "zSFgngvsihNY"
      },
      "execution_count": null,
      "outputs": []
    },
    {
      "cell_type": "code",
      "source": [
        "# Define url to csv data\n",
        "waterloo_tavg_url = (\n",
        "    \"https://www.ncei.noaa.gov/cag/city/time-series/\"\n",
        "    \"USW00094910-tavg-all-7-1950-2022.csv\"\n",
        "    \"?base_prd=true&begbaseyear=1950&endbaseyear=2000\")\n",
        "\n",
        "waterloo_tavg_url\n",
        "\n",
        "# Open data using pandas\n",
        "waterloo_tavg_df = pd.read_csv(waterloo_tavg_url,\n",
        "                               index_col=\"Date\",\n",
        "                               skiprows=4,\n",
        "                               na_values=-99)\n",
        "\n",
        "waterloo_tavg_df"
      ],
      "metadata": {
        "colab": {
          "base_uri": "https://localhost:8080/",
          "height": 455
        },
        "id": "bR7LAbNSdiyn",
        "outputId": "f8fbe42a-7229-4170-f390-6ab934a974f8"
      },
      "execution_count": null,
      "outputs": [
        {
          "output_type": "execute_result",
          "data": {
            "text/plain": [
              "        Value  Anomaly\n",
              "Date                  \n",
              "195003   28.8     -5.0\n",
              "195004   40.1     -8.0\n",
              "195005   59.6     -0.8\n",
              "195006    NaN   -169.0\n",
              "195007   70.5     -3.2\n",
              "...       ...      ...\n",
              "202203   37.1      3.3\n",
              "202204   43.5     -4.6\n",
              "202205   61.8      1.4\n",
              "202206   71.5      1.5\n",
              "202207   74.4      0.7\n",
              "\n",
              "[869 rows x 2 columns]"
            ],
            "text/html": [
              "\n",
              "  <div id=\"df-42d48ef2-9f4f-437b-9f41-0ea5f02ed37b\">\n",
              "    <div class=\"colab-df-container\">\n",
              "      <div>\n",
              "<style scoped>\n",
              "    .dataframe tbody tr th:only-of-type {\n",
              "        vertical-align: middle;\n",
              "    }\n",
              "\n",
              "    .dataframe tbody tr th {\n",
              "        vertical-align: top;\n",
              "    }\n",
              "\n",
              "    .dataframe thead th {\n",
              "        text-align: right;\n",
              "    }\n",
              "</style>\n",
              "<table border=\"1\" class=\"dataframe\">\n",
              "  <thead>\n",
              "    <tr style=\"text-align: right;\">\n",
              "      <th></th>\n",
              "      <th>Value</th>\n",
              "      <th>Anomaly</th>\n",
              "    </tr>\n",
              "    <tr>\n",
              "      <th>Date</th>\n",
              "      <th></th>\n",
              "      <th></th>\n",
              "    </tr>\n",
              "  </thead>\n",
              "  <tbody>\n",
              "    <tr>\n",
              "      <th>195003</th>\n",
              "      <td>28.8</td>\n",
              "      <td>-5.0</td>\n",
              "    </tr>\n",
              "    <tr>\n",
              "      <th>195004</th>\n",
              "      <td>40.1</td>\n",
              "      <td>-8.0</td>\n",
              "    </tr>\n",
              "    <tr>\n",
              "      <th>195005</th>\n",
              "      <td>59.6</td>\n",
              "      <td>-0.8</td>\n",
              "    </tr>\n",
              "    <tr>\n",
              "      <th>195006</th>\n",
              "      <td>NaN</td>\n",
              "      <td>-169.0</td>\n",
              "    </tr>\n",
              "    <tr>\n",
              "      <th>195007</th>\n",
              "      <td>70.5</td>\n",
              "      <td>-3.2</td>\n",
              "    </tr>\n",
              "    <tr>\n",
              "      <th>...</th>\n",
              "      <td>...</td>\n",
              "      <td>...</td>\n",
              "    </tr>\n",
              "    <tr>\n",
              "      <th>202203</th>\n",
              "      <td>37.1</td>\n",
              "      <td>3.3</td>\n",
              "    </tr>\n",
              "    <tr>\n",
              "      <th>202204</th>\n",
              "      <td>43.5</td>\n",
              "      <td>-4.6</td>\n",
              "    </tr>\n",
              "    <tr>\n",
              "      <th>202205</th>\n",
              "      <td>61.8</td>\n",
              "      <td>1.4</td>\n",
              "    </tr>\n",
              "    <tr>\n",
              "      <th>202206</th>\n",
              "      <td>71.5</td>\n",
              "      <td>1.5</td>\n",
              "    </tr>\n",
              "    <tr>\n",
              "      <th>202207</th>\n",
              "      <td>74.4</td>\n",
              "      <td>0.7</td>\n",
              "    </tr>\n",
              "  </tbody>\n",
              "</table>\n",
              "<p>869 rows × 2 columns</p>\n",
              "</div>\n",
              "      <button class=\"colab-df-convert\" onclick=\"convertToInteractive('df-42d48ef2-9f4f-437b-9f41-0ea5f02ed37b')\"\n",
              "              title=\"Convert this dataframe to an interactive table.\"\n",
              "              style=\"display:none;\">\n",
              "        \n",
              "  <svg xmlns=\"http://www.w3.org/2000/svg\" height=\"24px\"viewBox=\"0 0 24 24\"\n",
              "       width=\"24px\">\n",
              "    <path d=\"M0 0h24v24H0V0z\" fill=\"none\"/>\n",
              "    <path d=\"M18.56 5.44l.94 2.06.94-2.06 2.06-.94-2.06-.94-.94-2.06-.94 2.06-2.06.94zm-11 1L8.5 8.5l.94-2.06 2.06-.94-2.06-.94L8.5 2.5l-.94 2.06-2.06.94zm10 10l.94 2.06.94-2.06 2.06-.94-2.06-.94-.94-2.06-.94 2.06-2.06.94z\"/><path d=\"M17.41 7.96l-1.37-1.37c-.4-.4-.92-.59-1.43-.59-.52 0-1.04.2-1.43.59L10.3 9.45l-7.72 7.72c-.78.78-.78 2.05 0 2.83L4 21.41c.39.39.9.59 1.41.59.51 0 1.02-.2 1.41-.59l7.78-7.78 2.81-2.81c.8-.78.8-2.07 0-2.86zM5.41 20L4 18.59l7.72-7.72 1.47 1.35L5.41 20z\"/>\n",
              "  </svg>\n",
              "      </button>\n",
              "      \n",
              "  <style>\n",
              "    .colab-df-container {\n",
              "      display:flex;\n",
              "      flex-wrap:wrap;\n",
              "      gap: 12px;\n",
              "    }\n",
              "\n",
              "    .colab-df-convert {\n",
              "      background-color: #E8F0FE;\n",
              "      border: none;\n",
              "      border-radius: 50%;\n",
              "      cursor: pointer;\n",
              "      display: none;\n",
              "      fill: #1967D2;\n",
              "      height: 32px;\n",
              "      padding: 0 0 0 0;\n",
              "      width: 32px;\n",
              "    }\n",
              "\n",
              "    .colab-df-convert:hover {\n",
              "      background-color: #E2EBFA;\n",
              "      box-shadow: 0px 1px 2px rgba(60, 64, 67, 0.3), 0px 1px 3px 1px rgba(60, 64, 67, 0.15);\n",
              "      fill: #174EA6;\n",
              "    }\n",
              "\n",
              "    [theme=dark] .colab-df-convert {\n",
              "      background-color: #3B4455;\n",
              "      fill: #D2E3FC;\n",
              "    }\n",
              "\n",
              "    [theme=dark] .colab-df-convert:hover {\n",
              "      background-color: #434B5C;\n",
              "      box-shadow: 0px 1px 3px 1px rgba(0, 0, 0, 0.15);\n",
              "      filter: drop-shadow(0px 1px 2px rgba(0, 0, 0, 0.3));\n",
              "      fill: #FFFFFF;\n",
              "    }\n",
              "  </style>\n",
              "\n",
              "      <script>\n",
              "        const buttonEl =\n",
              "          document.querySelector('#df-42d48ef2-9f4f-437b-9f41-0ea5f02ed37b button.colab-df-convert');\n",
              "        buttonEl.style.display =\n",
              "          google.colab.kernel.accessAllowed ? 'block' : 'none';\n",
              "\n",
              "        async function convertToInteractive(key) {\n",
              "          const element = document.querySelector('#df-42d48ef2-9f4f-437b-9f41-0ea5f02ed37b');\n",
              "          const dataTable =\n",
              "            await google.colab.kernel.invokeFunction('convertToInteractive',\n",
              "                                                     [key], {});\n",
              "          if (!dataTable) return;\n",
              "\n",
              "          const docLinkHtml = 'Like what you see? Visit the ' +\n",
              "            '<a target=\"_blank\" href=https://colab.research.google.com/notebooks/data_table.ipynb>data table notebook</a>'\n",
              "            + ' to learn more about interactive tables.';\n",
              "          element.innerHTML = '';\n",
              "          dataTable['output_type'] = 'display_data';\n",
              "          await google.colab.output.renderOutput(dataTable, element);\n",
              "          const docLink = document.createElement('div');\n",
              "          docLink.innerHTML = docLinkHtml;\n",
              "          element.appendChild(docLink);\n",
              "        }\n",
              "      </script>\n",
              "    </div>\n",
              "  </div>\n",
              "  "
            ]
          },
          "metadata": {},
          "execution_count": 40
        }
      ]
    },
    {
      "cell_type": "code",
      "source": [
        "waterloo_tavg_df.index = pd.to_datetime(waterloo_tavg_df.index, format='%Y%m')\n",
        "waterloo_tavg_df"
      ],
      "metadata": {
        "colab": {
          "base_uri": "https://localhost:8080/",
          "height": 455
        },
        "id": "aQyzG8P1tDLG",
        "outputId": "c8a56a10-8771-439d-ae45-245c65b5396c"
      },
      "execution_count": null,
      "outputs": [
        {
          "output_type": "execute_result",
          "data": {
            "text/plain": [
              "            Value  Anomaly\n",
              "Date                      \n",
              "1950-03-01   28.8     -5.0\n",
              "1950-04-01   40.1     -8.0\n",
              "1950-05-01   59.6     -0.8\n",
              "1950-06-01    NaN   -169.0\n",
              "1950-07-01   70.5     -3.2\n",
              "...           ...      ...\n",
              "2022-03-01   37.1      3.3\n",
              "2022-04-01   43.5     -4.6\n",
              "2022-05-01   61.8      1.4\n",
              "2022-06-01   71.5      1.5\n",
              "2022-07-01   74.4      0.7\n",
              "\n",
              "[869 rows x 2 columns]"
            ],
            "text/html": [
              "\n",
              "  <div id=\"df-a2d18f42-12b0-4d2b-9053-c0ea871f0994\">\n",
              "    <div class=\"colab-df-container\">\n",
              "      <div>\n",
              "<style scoped>\n",
              "    .dataframe tbody tr th:only-of-type {\n",
              "        vertical-align: middle;\n",
              "    }\n",
              "\n",
              "    .dataframe tbody tr th {\n",
              "        vertical-align: top;\n",
              "    }\n",
              "\n",
              "    .dataframe thead th {\n",
              "        text-align: right;\n",
              "    }\n",
              "</style>\n",
              "<table border=\"1\" class=\"dataframe\">\n",
              "  <thead>\n",
              "    <tr style=\"text-align: right;\">\n",
              "      <th></th>\n",
              "      <th>Value</th>\n",
              "      <th>Anomaly</th>\n",
              "    </tr>\n",
              "    <tr>\n",
              "      <th>Date</th>\n",
              "      <th></th>\n",
              "      <th></th>\n",
              "    </tr>\n",
              "  </thead>\n",
              "  <tbody>\n",
              "    <tr>\n",
              "      <th>1950-03-01</th>\n",
              "      <td>28.8</td>\n",
              "      <td>-5.0</td>\n",
              "    </tr>\n",
              "    <tr>\n",
              "      <th>1950-04-01</th>\n",
              "      <td>40.1</td>\n",
              "      <td>-8.0</td>\n",
              "    </tr>\n",
              "    <tr>\n",
              "      <th>1950-05-01</th>\n",
              "      <td>59.6</td>\n",
              "      <td>-0.8</td>\n",
              "    </tr>\n",
              "    <tr>\n",
              "      <th>1950-06-01</th>\n",
              "      <td>NaN</td>\n",
              "      <td>-169.0</td>\n",
              "    </tr>\n",
              "    <tr>\n",
              "      <th>1950-07-01</th>\n",
              "      <td>70.5</td>\n",
              "      <td>-3.2</td>\n",
              "    </tr>\n",
              "    <tr>\n",
              "      <th>...</th>\n",
              "      <td>...</td>\n",
              "      <td>...</td>\n",
              "    </tr>\n",
              "    <tr>\n",
              "      <th>2022-03-01</th>\n",
              "      <td>37.1</td>\n",
              "      <td>3.3</td>\n",
              "    </tr>\n",
              "    <tr>\n",
              "      <th>2022-04-01</th>\n",
              "      <td>43.5</td>\n",
              "      <td>-4.6</td>\n",
              "    </tr>\n",
              "    <tr>\n",
              "      <th>2022-05-01</th>\n",
              "      <td>61.8</td>\n",
              "      <td>1.4</td>\n",
              "    </tr>\n",
              "    <tr>\n",
              "      <th>2022-06-01</th>\n",
              "      <td>71.5</td>\n",
              "      <td>1.5</td>\n",
              "    </tr>\n",
              "    <tr>\n",
              "      <th>2022-07-01</th>\n",
              "      <td>74.4</td>\n",
              "      <td>0.7</td>\n",
              "    </tr>\n",
              "  </tbody>\n",
              "</table>\n",
              "<p>869 rows × 2 columns</p>\n",
              "</div>\n",
              "      <button class=\"colab-df-convert\" onclick=\"convertToInteractive('df-a2d18f42-12b0-4d2b-9053-c0ea871f0994')\"\n",
              "              title=\"Convert this dataframe to an interactive table.\"\n",
              "              style=\"display:none;\">\n",
              "        \n",
              "  <svg xmlns=\"http://www.w3.org/2000/svg\" height=\"24px\"viewBox=\"0 0 24 24\"\n",
              "       width=\"24px\">\n",
              "    <path d=\"M0 0h24v24H0V0z\" fill=\"none\"/>\n",
              "    <path d=\"M18.56 5.44l.94 2.06.94-2.06 2.06-.94-2.06-.94-.94-2.06-.94 2.06-2.06.94zm-11 1L8.5 8.5l.94-2.06 2.06-.94-2.06-.94L8.5 2.5l-.94 2.06-2.06.94zm10 10l.94 2.06.94-2.06 2.06-.94-2.06-.94-.94-2.06-.94 2.06-2.06.94z\"/><path d=\"M17.41 7.96l-1.37-1.37c-.4-.4-.92-.59-1.43-.59-.52 0-1.04.2-1.43.59L10.3 9.45l-7.72 7.72c-.78.78-.78 2.05 0 2.83L4 21.41c.39.39.9.59 1.41.59.51 0 1.02-.2 1.41-.59l7.78-7.78 2.81-2.81c.8-.78.8-2.07 0-2.86zM5.41 20L4 18.59l7.72-7.72 1.47 1.35L5.41 20z\"/>\n",
              "  </svg>\n",
              "      </button>\n",
              "      \n",
              "  <style>\n",
              "    .colab-df-container {\n",
              "      display:flex;\n",
              "      flex-wrap:wrap;\n",
              "      gap: 12px;\n",
              "    }\n",
              "\n",
              "    .colab-df-convert {\n",
              "      background-color: #E8F0FE;\n",
              "      border: none;\n",
              "      border-radius: 50%;\n",
              "      cursor: pointer;\n",
              "      display: none;\n",
              "      fill: #1967D2;\n",
              "      height: 32px;\n",
              "      padding: 0 0 0 0;\n",
              "      width: 32px;\n",
              "    }\n",
              "\n",
              "    .colab-df-convert:hover {\n",
              "      background-color: #E2EBFA;\n",
              "      box-shadow: 0px 1px 2px rgba(60, 64, 67, 0.3), 0px 1px 3px 1px rgba(60, 64, 67, 0.15);\n",
              "      fill: #174EA6;\n",
              "    }\n",
              "\n",
              "    [theme=dark] .colab-df-convert {\n",
              "      background-color: #3B4455;\n",
              "      fill: #D2E3FC;\n",
              "    }\n",
              "\n",
              "    [theme=dark] .colab-df-convert:hover {\n",
              "      background-color: #434B5C;\n",
              "      box-shadow: 0px 1px 3px 1px rgba(0, 0, 0, 0.15);\n",
              "      filter: drop-shadow(0px 1px 2px rgba(0, 0, 0, 0.3));\n",
              "      fill: #FFFFFF;\n",
              "    }\n",
              "  </style>\n",
              "\n",
              "      <script>\n",
              "        const buttonEl =\n",
              "          document.querySelector('#df-a2d18f42-12b0-4d2b-9053-c0ea871f0994 button.colab-df-convert');\n",
              "        buttonEl.style.display =\n",
              "          google.colab.kernel.accessAllowed ? 'block' : 'none';\n",
              "\n",
              "        async function convertToInteractive(key) {\n",
              "          const element = document.querySelector('#df-a2d18f42-12b0-4d2b-9053-c0ea871f0994');\n",
              "          const dataTable =\n",
              "            await google.colab.kernel.invokeFunction('convertToInteractive',\n",
              "                                                     [key], {});\n",
              "          if (!dataTable) return;\n",
              "\n",
              "          const docLinkHtml = 'Like what you see? Visit the ' +\n",
              "            '<a target=\"_blank\" href=https://colab.research.google.com/notebooks/data_table.ipynb>data table notebook</a>'\n",
              "            + ' to learn more about interactive tables.';\n",
              "          element.innerHTML = '';\n",
              "          dataTable['output_type'] = 'display_data';\n",
              "          await google.colab.output.renderOutput(dataTable, element);\n",
              "          const docLink = document.createElement('div');\n",
              "          docLink.innerHTML = docLinkHtml;\n",
              "          element.appendChild(docLink);\n",
              "        }\n",
              "      </script>\n",
              "    </div>\n",
              "  </div>\n",
              "  "
            ]
          },
          "metadata": {},
          "execution_count": 50
        }
      ]
    },
    {
      "cell_type": "markdown",
      "source": [
        "### **TASK**: Use `index_col` to specify that a column’s values should be used as row headings"
      ],
      "metadata": {
        "id": "KoqL5dV474Hq"
      }
    },
    {
      "cell_type": "code",
      "source": [
        ""
      ],
      "metadata": {
        "id": "uG9Y44Vg8TD4"
      },
      "execution_count": null,
      "outputs": []
    },
    {
      "cell_type": "markdown",
      "source": [
        "### **TASK**: Use the `DataFrame.info()` method to find out more about a dataframe"
      ],
      "metadata": {
        "id": "2DqM9N-38czp"
      }
    },
    {
      "cell_type": "code",
      "source": [
        "waterloo_tavg_df.info()"
      ],
      "metadata": {
        "id": "w7xA6EJQ86yC",
        "colab": {
          "base_uri": "https://localhost:8080/"
        },
        "outputId": "2f50a86a-dc44-4027-94a1-93fc7fed74de"
      },
      "execution_count": null,
      "outputs": [
        {
          "output_type": "stream",
          "name": "stdout",
          "text": [
            "<class 'pandas.core.frame.DataFrame'>\n",
            "DatetimeIndex: 869 entries, 1950-03-01 to 2022-07-01\n",
            "Data columns (total 2 columns):\n",
            " #   Column   Non-Null Count  Dtype  \n",
            "---  ------   --------------  -----  \n",
            " 0   Value    868 non-null    float64\n",
            " 1   Anomaly  869 non-null    float64\n",
            "dtypes: float64(2)\n",
            "memory usage: 20.4 KB\n"
          ]
        }
      ]
    },
    {
      "cell_type": "markdown",
      "source": [
        "### **TASK**: Use `DataFrame.describe()` to get summary statistics about data"
      ],
      "metadata": {
        "id": "znvArbAO87nD"
      }
    },
    {
      "cell_type": "code",
      "source": [
        "waterloo_tavg_df.describe()"
      ],
      "metadata": {
        "id": "Ag1EETfm9Ar8",
        "colab": {
          "base_uri": "https://localhost:8080/",
          "height": 300
        },
        "outputId": "4955bd49-d459-4dda-b387-fd9a1a9a09ea"
      },
      "execution_count": null,
      "outputs": [
        {
          "output_type": "execute_result",
          "data": {
            "text/plain": [
              "            Value     Anomaly\n",
              "count  868.000000  869.000000\n",
              "mean    47.683295    0.157537\n",
              "std     20.155078    7.153890\n",
              "min      3.600000 -169.000000\n",
              "25%     29.875000   -2.200000\n",
              "50%     49.900000    0.400000\n",
              "75%     66.900000    2.800000\n",
              "max     80.000000   18.000000"
            ],
            "text/html": [
              "\n",
              "  <div id=\"df-24e98ce6-1497-4b3b-bd21-2d6d066c9139\">\n",
              "    <div class=\"colab-df-container\">\n",
              "      <div>\n",
              "<style scoped>\n",
              "    .dataframe tbody tr th:only-of-type {\n",
              "        vertical-align: middle;\n",
              "    }\n",
              "\n",
              "    .dataframe tbody tr th {\n",
              "        vertical-align: top;\n",
              "    }\n",
              "\n",
              "    .dataframe thead th {\n",
              "        text-align: right;\n",
              "    }\n",
              "</style>\n",
              "<table border=\"1\" class=\"dataframe\">\n",
              "  <thead>\n",
              "    <tr style=\"text-align: right;\">\n",
              "      <th></th>\n",
              "      <th>Value</th>\n",
              "      <th>Anomaly</th>\n",
              "    </tr>\n",
              "  </thead>\n",
              "  <tbody>\n",
              "    <tr>\n",
              "      <th>count</th>\n",
              "      <td>868.000000</td>\n",
              "      <td>869.000000</td>\n",
              "    </tr>\n",
              "    <tr>\n",
              "      <th>mean</th>\n",
              "      <td>47.683295</td>\n",
              "      <td>0.157537</td>\n",
              "    </tr>\n",
              "    <tr>\n",
              "      <th>std</th>\n",
              "      <td>20.155078</td>\n",
              "      <td>7.153890</td>\n",
              "    </tr>\n",
              "    <tr>\n",
              "      <th>min</th>\n",
              "      <td>3.600000</td>\n",
              "      <td>-169.000000</td>\n",
              "    </tr>\n",
              "    <tr>\n",
              "      <th>25%</th>\n",
              "      <td>29.875000</td>\n",
              "      <td>-2.200000</td>\n",
              "    </tr>\n",
              "    <tr>\n",
              "      <th>50%</th>\n",
              "      <td>49.900000</td>\n",
              "      <td>0.400000</td>\n",
              "    </tr>\n",
              "    <tr>\n",
              "      <th>75%</th>\n",
              "      <td>66.900000</td>\n",
              "      <td>2.800000</td>\n",
              "    </tr>\n",
              "    <tr>\n",
              "      <th>max</th>\n",
              "      <td>80.000000</td>\n",
              "      <td>18.000000</td>\n",
              "    </tr>\n",
              "  </tbody>\n",
              "</table>\n",
              "</div>\n",
              "      <button class=\"colab-df-convert\" onclick=\"convertToInteractive('df-24e98ce6-1497-4b3b-bd21-2d6d066c9139')\"\n",
              "              title=\"Convert this dataframe to an interactive table.\"\n",
              "              style=\"display:none;\">\n",
              "        \n",
              "  <svg xmlns=\"http://www.w3.org/2000/svg\" height=\"24px\"viewBox=\"0 0 24 24\"\n",
              "       width=\"24px\">\n",
              "    <path d=\"M0 0h24v24H0V0z\" fill=\"none\"/>\n",
              "    <path d=\"M18.56 5.44l.94 2.06.94-2.06 2.06-.94-2.06-.94-.94-2.06-.94 2.06-2.06.94zm-11 1L8.5 8.5l.94-2.06 2.06-.94-2.06-.94L8.5 2.5l-.94 2.06-2.06.94zm10 10l.94 2.06.94-2.06 2.06-.94-2.06-.94-.94-2.06-.94 2.06-2.06.94z\"/><path d=\"M17.41 7.96l-1.37-1.37c-.4-.4-.92-.59-1.43-.59-.52 0-1.04.2-1.43.59L10.3 9.45l-7.72 7.72c-.78.78-.78 2.05 0 2.83L4 21.41c.39.39.9.59 1.41.59.51 0 1.02-.2 1.41-.59l7.78-7.78 2.81-2.81c.8-.78.8-2.07 0-2.86zM5.41 20L4 18.59l7.72-7.72 1.47 1.35L5.41 20z\"/>\n",
              "  </svg>\n",
              "      </button>\n",
              "      \n",
              "  <style>\n",
              "    .colab-df-container {\n",
              "      display:flex;\n",
              "      flex-wrap:wrap;\n",
              "      gap: 12px;\n",
              "    }\n",
              "\n",
              "    .colab-df-convert {\n",
              "      background-color: #E8F0FE;\n",
              "      border: none;\n",
              "      border-radius: 50%;\n",
              "      cursor: pointer;\n",
              "      display: none;\n",
              "      fill: #1967D2;\n",
              "      height: 32px;\n",
              "      padding: 0 0 0 0;\n",
              "      width: 32px;\n",
              "    }\n",
              "\n",
              "    .colab-df-convert:hover {\n",
              "      background-color: #E2EBFA;\n",
              "      box-shadow: 0px 1px 2px rgba(60, 64, 67, 0.3), 0px 1px 3px 1px rgba(60, 64, 67, 0.15);\n",
              "      fill: #174EA6;\n",
              "    }\n",
              "\n",
              "    [theme=dark] .colab-df-convert {\n",
              "      background-color: #3B4455;\n",
              "      fill: #D2E3FC;\n",
              "    }\n",
              "\n",
              "    [theme=dark] .colab-df-convert:hover {\n",
              "      background-color: #434B5C;\n",
              "      box-shadow: 0px 1px 3px 1px rgba(0, 0, 0, 0.15);\n",
              "      filter: drop-shadow(0px 1px 2px rgba(0, 0, 0, 0.3));\n",
              "      fill: #FFFFFF;\n",
              "    }\n",
              "  </style>\n",
              "\n",
              "      <script>\n",
              "        const buttonEl =\n",
              "          document.querySelector('#df-24e98ce6-1497-4b3b-bd21-2d6d066c9139 button.colab-df-convert');\n",
              "        buttonEl.style.display =\n",
              "          google.colab.kernel.accessAllowed ? 'block' : 'none';\n",
              "\n",
              "        async function convertToInteractive(key) {\n",
              "          const element = document.querySelector('#df-24e98ce6-1497-4b3b-bd21-2d6d066c9139');\n",
              "          const dataTable =\n",
              "            await google.colab.kernel.invokeFunction('convertToInteractive',\n",
              "                                                     [key], {});\n",
              "          if (!dataTable) return;\n",
              "\n",
              "          const docLinkHtml = 'Like what you see? Visit the ' +\n",
              "            '<a target=\"_blank\" href=https://colab.research.google.com/notebooks/data_table.ipynb>data table notebook</a>'\n",
              "            + ' to learn more about interactive tables.';\n",
              "          element.innerHTML = '';\n",
              "          dataTable['output_type'] = 'display_data';\n",
              "          await google.colab.output.renderOutput(dataTable, element);\n",
              "          const docLink = document.createElement('div');\n",
              "          docLink.innerHTML = docLinkHtml;\n",
              "          element.appendChild(docLink);\n",
              "        }\n",
              "      </script>\n",
              "    </div>\n",
              "  </div>\n",
              "  "
            ]
          },
          "metadata": {},
          "execution_count": 51
        }
      ]
    },
    {
      "cell_type": "markdown",
      "source": [
        "## Plotting\n",
        "\n",
        "Finally, you can plot the data using `.plot()`\n",
        "\n",
        "**NOTE**: This lesson is modeled after a lesson from our Earth Data Science textbook (https://www.earthdatascience.org/courses/scientists-guide-to-plotting-data-in-python/plot-activities/plot-tabular-pandas-data-python/)"
      ],
      "metadata": {
        "id": "R9ZcgyxqihbR"
      }
    },
    {
      "cell_type": "markdown",
      "source": [
        "### **TASK**: Plot your temperature data using `.plot()`"
      ],
      "metadata": {
        "id": "EQs0BJwy9yQ3"
      }
    },
    {
      "cell_type": "code",
      "source": [
        "waterloo_tavg_df.plot(y=\"Value\")"
      ],
      "metadata": {
        "id": "RJpxNiTBijjz",
        "colab": {
          "base_uri": "https://localhost:8080/",
          "height": 296
        },
        "outputId": "6c392d85-90c1-484c-b1b2-522557136789"
      },
      "execution_count": null,
      "outputs": [
        {
          "output_type": "execute_result",
          "data": {
            "text/plain": [
              "<matplotlib.axes._subplots.AxesSubplot at 0x7f8a57cc6590>"
            ]
          },
          "metadata": {},
          "execution_count": 53
        },
        {
          "output_type": "display_data",
          "data": {
            "text/plain": [
              "<Figure size 432x288 with 1 Axes>"
            ],
            "image/png": "[encoded data removed]"
          },
          "metadata": {
            "needs_background": "light"
          }
        }
      ]
    },
    {
      "cell_type": "markdown",
      "source": [
        "## Functions and Loops\n",
        "\n",
        "Programming is especially useful when you need to perform the same task or similar tasks over and over. For example - suppose we want to to convert the temperatures in our DataFrame from Fahrenheit to Celcius? "
      ],
      "metadata": {
        "id": "EyQH_Llgijvk"
      }
    },
    {
      "cell_type": "markdown",
      "source": [
        "### TASK: Convert a single temperature from Fahrenheit to Celcius"
      ],
      "metadata": {
        "id": "lopb1Ij8kh4C"
      }
    },
    {
      "cell_type": "code",
      "source": [
        "# Create a variable \n",
        "\n",
        "temp_f = 45.3\n",
        "\n",
        "# Convert to from F to C\n",
        "temp_c = (temp_f - 32) * 5/9\n",
        "temp_c\n",
        "\n",
        "print(\"The Fahrenheit temperature is:\", temp_f, \"and the Celsius temperature is:\", temp_c)"
      ],
      "metadata": {
        "id": "Z7MoeY4uiuxz",
        "colab": {
          "base_uri": "https://localhost:8080/"
        },
        "outputId": "6678b97d-7788-4ba0-f946-ecd668d7a3f6"
      },
      "execution_count": null,
      "outputs": [
        {
          "output_type": "stream",
          "name": "stdout",
          "text": [
            "The Fahrenheit temperature is: 45.3 and the Celsius temperature is: 7.3888888888888875\n"
          ]
        }
      ]
    },
    {
      "cell_type": "markdown",
      "source": [
        "### TASK: Write a function to convert the temperature, then test it by converting a single temperature"
      ],
      "metadata": {
        "id": "JAWNArtgkqkz"
      }
    },
    {
      "cell_type": "code",
      "source": [
        "# Toy example\n",
        "def my_function(Jim):\n",
        "    print('Hi')\n",
        "    return Jim\n",
        "\n",
        "#my_function('Carl')\n",
        "\n",
        "\n",
        "\n",
        "# Convert F to C\n",
        "def fahrenheit_to_celsius(temp_fahrenheit):\n",
        "  return (temp_fahrenheit-32) * 5/9\n",
        "\n",
        "fahrenheit_to_celsius(temp_f)"
      ],
      "metadata": {
        "id": "YVoGlYDkk9G7",
        "colab": {
          "base_uri": "https://localhost:8080/"
        },
        "outputId": "ce5065f5-cd23-4079-d94e-eca61c0507ed"
      },
      "execution_count": null,
      "outputs": [
        {
          "output_type": "execute_result",
          "data": {
            "text/plain": [
              "7.3888888888888875"
            ]
          },
          "metadata": {},
          "execution_count": 66
        }
      ]
    },
    {
      "cell_type": "markdown",
      "source": [
        "### TASK: Make a copy of one year of your data"
      ],
      "metadata": {
        "id": "fTY5pZ2yk8Rz"
      }
    },
    {
      "cell_type": "code",
      "source": [
        "waterloo_1985_tavg = waterloo_tavg_df[waterloo_tavg_df.index.year==1985].copy()\n",
        "waterloo_1985_tavg"
      ],
      "metadata": {
        "id": "dEo6cyNXlM3E",
        "colab": {
          "base_uri": "https://localhost:8080/",
          "height": 457
        },
        "outputId": "308a2f37-59fb-4fc4-ceea-d670a3d54813"
      },
      "execution_count": null,
      "outputs": [
        {
          "output_type": "execute_result",
          "data": {
            "text/plain": [
              "            Value  Anomaly\n",
              "Date                      \n",
              "1985-01-01   13.1     -3.2\n",
              "1985-02-01   18.2     -4.4\n",
              "1985-03-01   39.7      5.9\n",
              "1985-04-01   54.3      6.2\n",
              "1985-05-01   63.8      3.4\n",
              "1985-06-01   66.8     -3.2\n",
              "1985-07-01   73.8      0.1\n",
              "1985-08-01   68.1     -3.1\n",
              "1985-09-01   63.7      1.1\n",
              "1985-10-01   50.9     -0.3\n",
              "1985-11-01   28.6     -7.0\n",
              "1985-12-01    9.4    -12.7"
            ],
            "text/html": [
              "\n",
              "  <div id=\"df-6561d585-b40f-4f4d-b6b0-fcfb4debbaca\">\n",
              "    <div class=\"colab-df-container\">\n",
              "      <div>\n",
              "<style scoped>\n",
              "    .dataframe tbody tr th:only-of-type {\n",
              "        vertical-align: middle;\n",
              "    }\n",
              "\n",
              "    .dataframe tbody tr th {\n",
              "        vertical-align: top;\n",
              "    }\n",
              "\n",
              "    .dataframe thead th {\n",
              "        text-align: right;\n",
              "    }\n",
              "</style>\n",
              "<table border=\"1\" class=\"dataframe\">\n",
              "  <thead>\n",
              "    <tr style=\"text-align: right;\">\n",
              "      <th></th>\n",
              "      <th>Value</th>\n",
              "      <th>Anomaly</th>\n",
              "    </tr>\n",
              "    <tr>\n",
              "      <th>Date</th>\n",
              "      <th></th>\n",
              "      <th></th>\n",
              "    </tr>\n",
              "  </thead>\n",
              "  <tbody>\n",
              "    <tr>\n",
              "      <th>1985-01-01</th>\n",
              "      <td>13.1</td>\n",
              "      <td>-3.2</td>\n",
              "    </tr>\n",
              "    <tr>\n",
              "      <th>1985-02-01</th>\n",
              "      <td>18.2</td>\n",
              "      <td>-4.4</td>\n",
              "    </tr>\n",
              "    <tr>\n",
              "      <th>1985-03-01</th>\n",
              "      <td>39.7</td>\n",
              "      <td>5.9</td>\n",
              "    </tr>\n",
              "    <tr>\n",
              "      <th>1985-04-01</th>\n",
              "      <td>54.3</td>\n",
              "      <td>6.2</td>\n",
              "    </tr>\n",
              "    <tr>\n",
              "      <th>1985-05-01</th>\n",
              "      <td>63.8</td>\n",
              "      <td>3.4</td>\n",
              "    </tr>\n",
              "    <tr>\n",
              "      <th>1985-06-01</th>\n",
              "      <td>66.8</td>\n",
              "      <td>-3.2</td>\n",
              "    </tr>\n",
              "    <tr>\n",
              "      <th>1985-07-01</th>\n",
              "      <td>73.8</td>\n",
              "      <td>0.1</td>\n",
              "    </tr>\n",
              "    <tr>\n",
              "      <th>1985-08-01</th>\n",
              "      <td>68.1</td>\n",
              "      <td>-3.1</td>\n",
              "    </tr>\n",
              "    <tr>\n",
              "      <th>1985-09-01</th>\n",
              "      <td>63.7</td>\n",
              "      <td>1.1</td>\n",
              "    </tr>\n",
              "    <tr>\n",
              "      <th>1985-10-01</th>\n",
              "      <td>50.9</td>\n",
              "      <td>-0.3</td>\n",
              "    </tr>\n",
              "    <tr>\n",
              "      <th>1985-11-01</th>\n",
              "      <td>28.6</td>\n",
              "      <td>-7.0</td>\n",
              "    </tr>\n",
              "    <tr>\n",
              "      <th>1985-12-01</th>\n",
              "      <td>9.4</td>\n",
              "      <td>-12.7</td>\n",
              "    </tr>\n",
              "  </tbody>\n",
              "</table>\n",
              "</div>\n",
              "      <button class=\"colab-df-convert\" onclick=\"convertToInteractive('df-6561d585-b40f-4f4d-b6b0-fcfb4debbaca')\"\n",
              "              title=\"Convert this dataframe to an interactive table.\"\n",
              "              style=\"display:none;\">\n",
              "        \n",
              "  <svg xmlns=\"http://www.w3.org/2000/svg\" height=\"24px\"viewBox=\"0 0 24 24\"\n",
              "       width=\"24px\">\n",
              "    <path d=\"M0 0h24v24H0V0z\" fill=\"none\"/>\n",
              "    <path d=\"M18.56 5.44l.94 2.06.94-2.06 2.06-.94-2.06-.94-.94-2.06-.94 2.06-2.06.94zm-11 1L8.5 8.5l.94-2.06 2.06-.94-2.06-.94L8.5 2.5l-.94 2.06-2.06.94zm10 10l.94 2.06.94-2.06 2.06-.94-2.06-.94-.94-2.06-.94 2.06-2.06.94z\"/><path d=\"M17.41 7.96l-1.37-1.37c-.4-.4-.92-.59-1.43-.59-.52 0-1.04.2-1.43.59L10.3 9.45l-7.72 7.72c-.78.78-.78 2.05 0 2.83L4 21.41c.39.39.9.59 1.41.59.51 0 1.02-.2 1.41-.59l7.78-7.78 2.81-2.81c.8-.78.8-2.07 0-2.86zM5.41 20L4 18.59l7.72-7.72 1.47 1.35L5.41 20z\"/>\n",
              "  </svg>\n",
              "      </button>\n",
              "      \n",
              "  <style>\n",
              "    .colab-df-container {\n",
              "      display:flex;\n",
              "      flex-wrap:wrap;\n",
              "      gap: 12px;\n",
              "    }\n",
              "\n",
              "    .colab-df-convert {\n",
              "      background-color: #E8F0FE;\n",
              "      border: none;\n",
              "      border-radius: 50%;\n",
              "      cursor: pointer;\n",
              "      display: none;\n",
              "      fill: #1967D2;\n",
              "      height: 32px;\n",
              "      padding: 0 0 0 0;\n",
              "      width: 32px;\n",
              "    }\n",
              "\n",
              "    .colab-df-convert:hover {\n",
              "      background-color: #E2EBFA;\n",
              "      box-shadow: 0px 1px 2px rgba(60, 64, 67, 0.3), 0px 1px 3px 1px rgba(60, 64, 67, 0.15);\n",
              "      fill: #174EA6;\n",
              "    }\n",
              "\n",
              "    [theme=dark] .colab-df-convert {\n",
              "      background-color: #3B4455;\n",
              "      fill: #D2E3FC;\n",
              "    }\n",
              "\n",
              "    [theme=dark] .colab-df-convert:hover {\n",
              "      background-color: #434B5C;\n",
              "      box-shadow: 0px 1px 3px 1px rgba(0, 0, 0, 0.15);\n",
              "      filter: drop-shadow(0px 1px 2px rgba(0, 0, 0, 0.3));\n",
              "      fill: #FFFFFF;\n",
              "    }\n",
              "  </style>\n",
              "\n",
              "      <script>\n",
              "        const buttonEl =\n",
              "          document.querySelector('#df-6561d585-b40f-4f4d-b6b0-fcfb4debbaca button.colab-df-convert');\n",
              "        buttonEl.style.display =\n",
              "          google.colab.kernel.accessAllowed ? 'block' : 'none';\n",
              "\n",
              "        async function convertToInteractive(key) {\n",
              "          const element = document.querySelector('#df-6561d585-b40f-4f4d-b6b0-fcfb4debbaca');\n",
              "          const dataTable =\n",
              "            await google.colab.kernel.invokeFunction('convertToInteractive',\n",
              "                                                     [key], {});\n",
              "          if (!dataTable) return;\n",
              "\n",
              "          const docLinkHtml = 'Like what you see? Visit the ' +\n",
              "            '<a target=\"_blank\" href=https://colab.research.google.com/notebooks/data_table.ipynb>data table notebook</a>'\n",
              "            + ' to learn more about interactive tables.';\n",
              "          element.innerHTML = '';\n",
              "          dataTable['output_type'] = 'display_data';\n",
              "          await google.colab.output.renderOutput(dataTable, element);\n",
              "          const docLink = document.createElement('div');\n",
              "          docLink.innerHTML = docLinkHtml;\n",
              "          element.appendChild(docLink);\n",
              "        }\n",
              "      </script>\n",
              "    </div>\n",
              "  </div>\n",
              "  "
            ]
          },
          "metadata": {},
          "execution_count": 68
        }
      ]
    },
    {
      "cell_type": "markdown",
      "source": [
        "### TASK: Using a for loop, print each of the Fahrenheit temperatures in your DataFrame"
      ],
      "metadata": {
        "id": "6SYjStQOnFnF"
      }
    },
    {
      "cell_type": "code",
      "source": [
        "# Toy demo\n",
        "for char in \"Bruce\":\n",
        "  print(char)\n",
        "\n",
        "\n",
        "# Try with temperature data (start by building empty list)\n",
        "temp_c_list = []\n",
        "\n",
        "\n",
        "for temp_f in waterloo_1985_tavg.Value:\n",
        "    temp_c_list.append(fahrenheit_to_celsius(temp_f))\n",
        "temp_c_list"
      ],
      "metadata": {
        "id": "l7WXRILGnFxO",
        "colab": {
          "base_uri": "https://localhost:8080/"
        },
        "outputId": "24520c38-0c75-41ea-ef75-292139566e99"
      },
      "execution_count": null,
      "outputs": [
        {
          "output_type": "stream",
          "name": "stdout",
          "text": [
            "B\n",
            "r\n",
            "u\n",
            "c\n",
            "e\n"
          ]
        },
        {
          "output_type": "execute_result",
          "data": {
            "text/plain": [
              "[-10.5,\n",
              " -7.666666666666667,\n",
              " 4.2777777777777795,\n",
              " 12.388888888888888,\n",
              " 17.666666666666668,\n",
              " 19.333333333333332,\n",
              " 23.22222222222222,\n",
              " 20.055555555555554,\n",
              " 17.61111111111111,\n",
              " 10.5,\n",
              " -1.8888888888888882,\n",
              " -12.555555555555555]"
            ]
          },
          "metadata": {},
          "execution_count": 72
        }
      ]
    },
    {
      "cell_type": "markdown",
      "source": [
        "### TASK: Convert each Fahrenheit temperature to Celcius and print that instead"
      ],
      "metadata": {
        "id": "BdzPnIVZnF_P"
      }
    },
    {
      "cell_type": "code",
      "source": [
        ""
      ],
      "metadata": {
        "id": "3eX8VoJWnGMA"
      },
      "execution_count": null,
      "outputs": []
    },
    {
      "cell_type": "markdown",
      "source": [
        "### TASK: Store the Celcius temperatures in a list"
      ],
      "metadata": {
        "id": "EWYugoq4nGWv"
      }
    },
    {
      "cell_type": "code",
      "source": [
        ""
      ],
      "metadata": {
        "id": "1jLdPRuGnGhJ"
      },
      "execution_count": null,
      "outputs": []
    },
    {
      "cell_type": "markdown",
      "source": [
        "### TASK: Compute a list of all the temperatures in your DataFrame in Celcius. Then, add them to your DataFrame as a new column.\n",
        "\n",
        "**HINT - use the one-year test DataFrame to try out your method before applying it to the whole DataFrame**"
      ],
      "metadata": {
        "id": "WpMGTgxklNQ2"
      }
    },
    {
      "cell_type": "code",
      "source": [
        "waterloo_temp_c_list = []\n",
        "\n",
        "for value in waterloo_tavg_df.Value:\n",
        "  waterloo_temp_c_list.append(fahrenheit_to_celsius(value))\n",
        "\n",
        "waterloo_tavg_df['tavg_c'] = waterloo_temp_c_list\n",
        "waterloo_tavg_df"
      ],
      "metadata": {
        "id": "AEplZrDXnqpy",
        "colab": {
          "base_uri": "https://localhost:8080/",
          "height": 455
        },
        "outputId": "63cd1427-ca6b-4aba-a415-d3c057a3c49f"
      },
      "execution_count": null,
      "outputs": [
        {
          "output_type": "execute_result",
          "data": {
            "text/plain": [
              "            Value  Anomaly     tavg_c\n",
              "Date                                 \n",
              "1950-03-01   28.8     -5.0  -1.777778\n",
              "1950-04-01   40.1     -8.0   4.500000\n",
              "1950-05-01   59.6     -0.8  15.333333\n",
              "1950-06-01    NaN   -169.0        NaN\n",
              "1950-07-01   70.5     -3.2  21.388889\n",
              "...           ...      ...        ...\n",
              "2022-03-01   37.1      3.3   2.833333\n",
              "2022-04-01   43.5     -4.6   6.388889\n",
              "2022-05-01   61.8      1.4  16.555556\n",
              "2022-06-01   71.5      1.5  21.944444\n",
              "2022-07-01   74.4      0.7  23.555556\n",
              "\n",
              "[869 rows x 3 columns]"
            ],
            "text/html": [
              "\n",
              "  <div id=\"df-a3624f2a-6bb1-4bba-9e3c-b1f7e0a39931\">\n",
              "    <div class=\"colab-df-container\">\n",
              "      <div>\n",
              "<style scoped>\n",
              "    .dataframe tbody tr th:only-of-type {\n",
              "        vertical-align: middle;\n",
              "    }\n",
              "\n",
              "    .dataframe tbody tr th {\n",
              "        vertical-align: top;\n",
              "    }\n",
              "\n",
              "    .dataframe thead th {\n",
              "        text-align: right;\n",
              "    }\n",
              "</style>\n",
              "<table border=\"1\" class=\"dataframe\">\n",
              "  <thead>\n",
              "    <tr style=\"text-align: right;\">\n",
              "      <th></th>\n",
              "      <th>Value</th>\n",
              "      <th>Anomaly</th>\n",
              "      <th>tavg_c</th>\n",
              "    </tr>\n",
              "    <tr>\n",
              "      <th>Date</th>\n",
              "      <th></th>\n",
              "      <th></th>\n",
              "      <th></th>\n",
              "    </tr>\n",
              "  </thead>\n",
              "  <tbody>\n",
              "    <tr>\n",
              "      <th>1950-03-01</th>\n",
              "      <td>28.8</td>\n",
              "      <td>-5.0</td>\n",
              "      <td>-1.777778</td>\n",
              "    </tr>\n",
              "    <tr>\n",
              "      <th>1950-04-01</th>\n",
              "      <td>40.1</td>\n",
              "      <td>-8.0</td>\n",
              "      <td>4.500000</td>\n",
              "    </tr>\n",
              "    <tr>\n",
              "      <th>1950-05-01</th>\n",
              "      <td>59.6</td>\n",
              "      <td>-0.8</td>\n",
              "      <td>15.333333</td>\n",
              "    </tr>\n",
              "    <tr>\n",
              "      <th>1950-06-01</th>\n",
              "      <td>NaN</td>\n",
              "      <td>-169.0</td>\n",
              "      <td>NaN</td>\n",
              "    </tr>\n",
              "    <tr>\n",
              "      <th>1950-07-01</th>\n",
              "      <td>70.5</td>\n",
              "      <td>-3.2</td>\n",
              "      <td>21.388889</td>\n",
              "    </tr>\n",
              "    <tr>\n",
              "      <th>...</th>\n",
              "      <td>...</td>\n",
              "      <td>...</td>\n",
              "      <td>...</td>\n",
              "    </tr>\n",
              "    <tr>\n",
              "      <th>2022-03-01</th>\n",
              "      <td>37.1</td>\n",
              "      <td>3.3</td>\n",
              "      <td>2.833333</td>\n",
              "    </tr>\n",
              "    <tr>\n",
              "      <th>2022-04-01</th>\n",
              "      <td>43.5</td>\n",
              "      <td>-4.6</td>\n",
              "      <td>6.388889</td>\n",
              "    </tr>\n",
              "    <tr>\n",
              "      <th>2022-05-01</th>\n",
              "      <td>61.8</td>\n",
              "      <td>1.4</td>\n",
              "      <td>16.555556</td>\n",
              "    </tr>\n",
              "    <tr>\n",
              "      <th>2022-06-01</th>\n",
              "      <td>71.5</td>\n",
              "      <td>1.5</td>\n",
              "      <td>21.944444</td>\n",
              "    </tr>\n",
              "    <tr>\n",
              "      <th>2022-07-01</th>\n",
              "      <td>74.4</td>\n",
              "      <td>0.7</td>\n",
              "      <td>23.555556</td>\n",
              "    </tr>\n",
              "  </tbody>\n",
              "</table>\n",
              "<p>869 rows × 3 columns</p>\n",
              "</div>\n",
              "      <button class=\"colab-df-convert\" onclick=\"convertToInteractive('df-a3624f2a-6bb1-4bba-9e3c-b1f7e0a39931')\"\n",
              "              title=\"Convert this dataframe to an interactive table.\"\n",
              "              style=\"display:none;\">\n",
              "        \n",
              "  <svg xmlns=\"http://www.w3.org/2000/svg\" height=\"24px\"viewBox=\"0 0 24 24\"\n",
              "       width=\"24px\">\n",
              "    <path d=\"M0 0h24v24H0V0z\" fill=\"none\"/>\n",
              "    <path d=\"M18.56 5.44l.94 2.06.94-2.06 2.06-.94-2.06-.94-.94-2.06-.94 2.06-2.06.94zm-11 1L8.5 8.5l.94-2.06 2.06-.94-2.06-.94L8.5 2.5l-.94 2.06-2.06.94zm10 10l.94 2.06.94-2.06 2.06-.94-2.06-.94-.94-2.06-.94 2.06-2.06.94z\"/><path d=\"M17.41 7.96l-1.37-1.37c-.4-.4-.92-.59-1.43-.59-.52 0-1.04.2-1.43.59L10.3 9.45l-7.72 7.72c-.78.78-.78 2.05 0 2.83L4 21.41c.39.39.9.59 1.41.59.51 0 1.02-.2 1.41-.59l7.78-7.78 2.81-2.81c.8-.78.8-2.07 0-2.86zM5.41 20L4 18.59l7.72-7.72 1.47 1.35L5.41 20z\"/>\n",
              "  </svg>\n",
              "      </button>\n",
              "      \n",
              "  <style>\n",
              "    .colab-df-container {\n",
              "      display:flex;\n",
              "      flex-wrap:wrap;\n",
              "      gap: 12px;\n",
              "    }\n",
              "\n",
              "    .colab-df-convert {\n",
              "      background-color: #E8F0FE;\n",
              "      border: none;\n",
              "      border-radius: 50%;\n",
              "      cursor: pointer;\n",
              "      display: none;\n",
              "      fill: #1967D2;\n",
              "      height: 32px;\n",
              "      padding: 0 0 0 0;\n",
              "      width: 32px;\n",
              "    }\n",
              "\n",
              "    .colab-df-convert:hover {\n",
              "      background-color: #E2EBFA;\n",
              "      box-shadow: 0px 1px 2px rgba(60, 64, 67, 0.3), 0px 1px 3px 1px rgba(60, 64, 67, 0.15);\n",
              "      fill: #174EA6;\n",
              "    }\n",
              "\n",
              "    [theme=dark] .colab-df-convert {\n",
              "      background-color: #3B4455;\n",
              "      fill: #D2E3FC;\n",
              "    }\n",
              "\n",
              "    [theme=dark] .colab-df-convert:hover {\n",
              "      background-color: #434B5C;\n",
              "      box-shadow: 0px 1px 3px 1px rgba(0, 0, 0, 0.15);\n",
              "      filter: drop-shadow(0px 1px 2px rgba(0, 0, 0, 0.3));\n",
              "      fill: #FFFFFF;\n",
              "    }\n",
              "  </style>\n",
              "\n",
              "      <script>\n",
              "        const buttonEl =\n",
              "          document.querySelector('#df-a3624f2a-6bb1-4bba-9e3c-b1f7e0a39931 button.colab-df-convert');\n",
              "        buttonEl.style.display =\n",
              "          google.colab.kernel.accessAllowed ? 'block' : 'none';\n",
              "\n",
              "        async function convertToInteractive(key) {\n",
              "          const element = document.querySelector('#df-a3624f2a-6bb1-4bba-9e3c-b1f7e0a39931');\n",
              "          const dataTable =\n",
              "            await google.colab.kernel.invokeFunction('convertToInteractive',\n",
              "                                                     [key], {});\n",
              "          if (!dataTable) return;\n",
              "\n",
              "          const docLinkHtml = 'Like what you see? Visit the ' +\n",
              "            '<a target=\"_blank\" href=https://colab.research.google.com/notebooks/data_table.ipynb>data table notebook</a>'\n",
              "            + ' to learn more about interactive tables.';\n",
              "          element.innerHTML = '';\n",
              "          dataTable['output_type'] = 'display_data';\n",
              "          await google.colab.output.renderOutput(dataTable, element);\n",
              "          const docLink = document.createElement('div');\n",
              "          docLink.innerHTML = docLinkHtml;\n",
              "          element.appendChild(docLink);\n",
              "        }\n",
              "      </script>\n",
              "    </div>\n",
              "  </div>\n",
              "  "
            ]
          },
          "metadata": {},
          "execution_count": 73
        }
      ]
    },
    {
      "cell_type": "markdown",
      "source": [
        "### TASK: Plot the temperature in Celcius over time"
      ],
      "metadata": {
        "id": "AjJ07BHMnrct"
      }
    },
    {
      "cell_type": "code",
      "source": [
        "waterloo_tavg_df.plot(y=\"tavg_c\",\n",
        "                      ylabel=\"Temperature (C)\",\n",
        "                      title=\"Waterloo, IA - Average Temperature (C)\")"
      ],
      "metadata": {
        "colab": {
          "base_uri": "https://localhost:8080/",
          "height": 312
        },
        "id": "vlpcwcZG69RU",
        "outputId": "afde88f5-6fb2-4226-f770-1bc0e7010465"
      },
      "execution_count": null,
      "outputs": [
        {
          "output_type": "execute_result",
          "data": {
            "text/plain": [
              "<matplotlib.axes._subplots.AxesSubplot at 0x7f8a57903090>"
            ]
          },
          "metadata": {},
          "execution_count": 77
        },
        {
          "output_type": "display_data",
          "data": {
            "text/plain": [
              "<Figure size 432x288 with 1 Axes>"
            ],
            "image/png": "[encoded data removed]"
          },
          "metadata": {
            "needs_background": "light"
          }
        }
      ]
    },
    {
      "cell_type": "code",
      "source": [
        ""
      ],
      "metadata": {
        "id": "bHl5Cgte7L0V"
      },
      "execution_count": null,
      "outputs": []
    }
  ]
}